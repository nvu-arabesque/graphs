{
 "cells": [
  {
   "cell_type": "markdown",
   "metadata": {},
   "source": [
    "The simple example from jraph repo"
   ]
  },
  {
   "cell_type": "code",
   "execution_count": 1,
   "metadata": {},
   "outputs": [],
   "source": [
    "import jraph\n",
    "import jax.numpy as jnp\n",
    "\n",
    "# Define a three node graph, each node has an integer as its feature.\n",
    "node_features = jnp.array([[0.], [1.], [2.]])\n",
    "\n",
    "# We will construct a graph for which there is a directed edge between each node\n",
    "# and its successor. We define this with `senders` (source nodes) and `receivers`\n",
    "# (destination nodes).\n",
    "senders = jnp.array([0, 1, 2])\n",
    "receivers = jnp.array([1, 2, 0])\n",
    "\n",
    "# You can optionally add edge attributes.\n",
    "edges = jnp.array([[5.], [6.], [7.]])\n",
    "\n",
    "# We then save the number of nodes and the number of edges.\n",
    "# This information is used to make running GNNs over multiple graphs\n",
    "# in a GraphsTuple possible.\n",
    "n_node = jnp.array([3])\n",
    "n_edge = jnp.array([3])\n",
    "\n",
    "# Optionally you can add `global` information, such as a graph label.\n",
    "\n",
    "global_context = jnp.array([[1]])\n",
    "graph = jraph.GraphsTuple(nodes=node_features, senders=senders, receivers=receivers,\n",
    "edges=edges, n_node=n_node, n_edge=n_edge, globals=global_context)"
   ]
  },
  {
   "cell_type": "code",
   "execution_count": 2,
   "metadata": {},
   "outputs": [
    {
     "data": {
      "text/plain": [
       "GraphsTuple(nodes=DeviceArray([[0.],\n",
       "             [1.],\n",
       "             [2.]], dtype=float32), edges=DeviceArray([[5.],\n",
       "             [6.],\n",
       "             [7.]], dtype=float32), receivers=DeviceArray([1, 2, 0], dtype=int32), senders=DeviceArray([0, 1, 2], dtype=int32), globals=DeviceArray([[1]], dtype=int32), n_node=DeviceArray([3], dtype=int32), n_edge=DeviceArray([3], dtype=int32))"
      ]
     },
     "execution_count": 2,
     "metadata": {},
     "output_type": "execute_result"
    }
   ],
   "source": [
    "graph"
   ]
  },
  {
   "cell_type": "code",
   "execution_count": 3,
   "metadata": {},
   "outputs": [],
   "source": [
    "two_graph_graphstuple = jraph.batch([graph, graph])"
   ]
  },
  {
   "cell_type": "code",
   "execution_count": 4,
   "metadata": {},
   "outputs": [
    {
     "data": {
      "text/plain": [
       "DeviceArray([[0.],\n",
       "             [1.],\n",
       "             [2.],\n",
       "             [0.],\n",
       "             [1.],\n",
       "             [2.]], dtype=float32)"
      ]
     },
     "execution_count": 4,
     "metadata": {},
     "output_type": "execute_result"
    }
   ],
   "source": [
    "jraph.batch([graph, graph]).nodes"
   ]
  },
  {
   "cell_type": "code",
   "execution_count": null,
   "metadata": {},
   "outputs": [],
   "source": []
  }
 ],
 "metadata": {
  "kernelspec": {
   "display_name": "Python 3.7.3 ('dev')",
   "language": "python",
   "name": "python3"
  },
  "language_info": {
   "codemirror_mode": {
    "name": "ipython",
    "version": 3
   },
   "file_extension": ".py",
   "mimetype": "text/x-python",
   "name": "python",
   "nbconvert_exporter": "python",
   "pygments_lexer": "ipython3",
   "version": "3.7.3"
  },
  "orig_nbformat": 4,
  "vscode": {
   "interpreter": {
    "hash": "0544a9df1ee79bdb2d9813ce145abb07ad0a8590f36102d5edc67e2baf3c42ba"
   }
  }
 },
 "nbformat": 4,
 "nbformat_minor": 2
}
